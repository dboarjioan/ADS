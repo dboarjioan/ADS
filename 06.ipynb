{
  "metadata": {
    "language_info": {
      "codemirror_mode": {
        "name": "python",
        "version": 3
      },
      "file_extension": ".py",
      "mimetype": "text/x-python",
      "name": "python",
      "nbconvert_exporter": "python",
      "pygments_lexer": "ipython3",
      "version": "3.8"
    },
    "kernelspec": {
      "name": "python",
      "display_name": "Python (Pyodide)",
      "language": "python"
    }
  },
  "nbformat_minor": 4,
  "nbformat": 4,
  "cells": [
    {
      "cell_type": "code",
      "source": "import re\n\npattern = r'^RUN \\d{6} COMPLETED\\. OUTPUT IN FILE \\w+\\.dat\\.*$'\n\nwith open('atoms.log') as atoms:\n    for line in atoms:\n        if re.match(pattern, line):\n            print(line)",
      "metadata": {},
      "execution_count": null,
      "outputs": []
    },
    {
      "cell_type": "code",
      "source": "import re\npattern = r'.*\\bInvalid user\\b.*'\n\nwith open('messages.txt') as messages:\n    for line in messages:\n        if re.search(pattern, line):\n            print(line.strip())",
      "metadata": {},
      "execution_count": null,
      "outputs": []
    },
    {
      "cell_type": "code",
      "source": "import re\nfrom datetime import datetime\n\npattern = r'(\\w{3} \\d{2} \\d{2}:\\d{2}:\\d{2}).*Invalid user (\\w+) from (\\d+\\.\\d+\\.\\d+\\.\\d+)'\n\nwith open('messages.txt') as messages:\n    for line in messages:\n        match = re.search(pattern, line)\n        if match:\n            timestamp_str, username, ip_address = match.groups()\n            timestamp = datetime.strptime(timestamp_str, \"%b %d %H:%M:%S\")\n            formatted_line = f'Niepoprawna nazwa użytkownika: \"{username}\", połaczenie z {ip_address} nawiązano {timestamp:%d} {timestamp:%B} at {timestamp:%H:%M}'\n            print(formatted_line)\n",
      "metadata": {
        "trusted": true
      },
      "execution_count": 18,
      "outputs": []
    },
    {
      "cell_type": "code",
      "source": "from collections import defaultdict\n\ndef count_letters(word):\n    \"\"\" Zwraca słownik gdzie kluczami są litery, a wartościami ilość ich występowania \"\"\"\n    letter_count = defaultdict(int)\n    for letter in word:\n        letter_count[letter] += 1\n    return dict(letter_count)\n\nprint(count_letters('aaaaa') == {'a': 5})\nprint(count_letters('abbccaaaa') == {'a': 5, 'b': 2, 'c': 2})\nprint(count_letters('abc') == {'a': 1, 'b': 1, 'c': 1})",
      "metadata": {
        "trusted": true
      },
      "execution_count": 9,
      "outputs": [
        {
          "name": "stdout",
          "text": "True\nTrue\nTrue\n",
          "output_type": "stream"
        }
      ]
    },
    {
      "cell_type": "code",
      "source": "from collections import defaultdict\n\ndef group_words_by_first_letter(text):\n    \"\"\" Dzieli tekst po spacjach i zwraca słownik gdzie kluczami są pierwsze litery, a wartościami listy słów zaczynających się na te litery\"\"\"\n    words = text.split()\n    word_dict = defaultdict(list)\n    for word in words:\n            first_letter = word[0]\n            word_dict[first_letter].append(word)\n    return dict(word_dict)\n\nprint(group_words_by_first_letter(\"ala ma kota\") == {'a': ['ala'], 'm': ['ma'], 'k': ['kota']})\nprint(group_words_by_first_letter(\"ala ma kota ala ma psa\") == {'a': ['ala', 'ala'], 'm': ['ma', 'ma'], 'k': ['kota'], 'p': ['psa']})\nprint(group_words_by_first_letter(\"ala ma kota ale marysia ma konia\") == {'a': ['ala', 'ale'], 'm': ['ma', 'marysia', 'ma'], 'k': ['kota', 'konia']})\n",
      "metadata": {
        "trusted": true
      },
      "execution_count": 15,
      "outputs": [
        {
          "name": "stdout",
          "text": "True\nTrue\nTrue\n",
          "output_type": "stream"
        }
      ]
    },
    {
      "cell_type": "code",
      "source": "class FrozenDictionary(object):\n    \"\"\"\n    Odpowiednik frozenset dla zbiorów, czyli słownik, który nie jest modyfikowalny,\n    a dzięki temu może być np. elementem zbiorów, albo kluczem w innym słowniku.\n    \"\"\"\n\n    def __init__(self, dictionary):\n        \"\"\"Tworzy nowy zamrożony słownik z podanego słownika\"\"\"\n        self._dictionary = dictionary\n\n    def __hash__(self):\n        \"\"\"Zwraca hasz słownika (int)\"\"\"\n        return hash(frozenset(self._dictionary.items()))\n\n    def __eq__(self, d):\n        \"\"\"Porównuje nasz słownik z zamrożonym słownikiem d\"\"\"\n        if isinstance(d, FrozenDictionary):\n            return self._dictionary == d._dictionary\n        return False\n\n    def __repr__(self):\n        \"\"\"Zwraca reprezentację naszego słownika jako string\"\"\"\n        return repr(self._dictionary)\n\ndicts = [FrozenDictionary({'ala': 4}),\n         FrozenDictionary({'ala': 1, 'jacek': 0}),\n         FrozenDictionary({'ala': 4}),\n         FrozenDictionary({'ala': 2}),\n         FrozenDictionary({'jacek': 0, 'ala': 1})]\n\ns = set(dicts)\nprint(dicts[0] == dicts[2])\nprint(dicts[0] != dicts[3])\nprint(len(s) == 3)\nfor d in dicts:\n    print(d in s)\nprint(s)",
      "metadata": {
        "trusted": true
      },
      "execution_count": 16,
      "outputs": [
        {
          "name": "stdout",
          "text": "True\nTrue\nTrue\nTrue\nTrue\nTrue\nTrue\nTrue\n{{'ala': 1, 'jacek': 0}, {'ala': 4}, {'ala': 2}}\n",
          "output_type": "stream"
        }
      ]
    }
  ]
}