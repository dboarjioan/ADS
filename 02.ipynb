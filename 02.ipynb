{
  "metadata": {
    "language_info": {
      "codemirror_mode": {
        "name": "python",
        "version": 3
      },
      "file_extension": ".py",
      "mimetype": "text/x-python",
      "name": "python",
      "nbconvert_exporter": "python",
      "pygments_lexer": "ipython3",
      "version": "3.8"
    },
    "kernelspec": {
      "name": "python",
      "display_name": "Python (Pyodide)",
      "language": "python"
    }
  },
  "nbformat_minor": 4,
  "nbformat": 4,
  "cells": [
    {
      "cell_type": "code",
      "source": "def check_anagram(first, second):\n\n    if len(first) != len(second):\n        return False\n\n    letter_count = {}\n\n    for letter in first:\n        if letter in letter_count:\n            letter_count[letter] += 1\n        else:\n            letter_count[letter] = 1\n\n    for letter in second:\n        if letter in letter_count:\n            letter_count[letter] -= 1\n        else:\n           return False\n\n    for count in letter_count.values():\n        if count != 0:\n            return False\n\n    return True\n\n\nprint(check_anagram(\"abcd\", \"dcba\") == True)\nprint(check_anagram(\"aba\", \"baa\") == True)\nprint(check_anagram(\"aba\", \"ba\") == False)\nprint(check_anagram(\"tom marvolo riddle \", \"i am lord voldemort\") == True)\n",
      "metadata": {
        "trusted": true
      },
      "execution_count": 9,
      "outputs": [
        {
          "name": "stdout",
          "text": "True\nTrue\nTrue\nTrue\n",
          "output_type": "stream"
        }
      ]
    },
    {
      "cell_type": "code",
      "source": "def gaderypoluki(text, key):\n    alphabet = \"ABCDEFGHIJKLMNOPQRSTUVWXYZ\"\n    key = key.upper()\n    dict = {'A': 'G', 'G': 'A', 'D': 'E', 'E': 'D', 'R': 'Y', 'Y': 'R','P': 'O', 'O': 'P', 'L': 'U', 'U': 'L', 'K': 'I', 'I': 'K'}\n\n    result = \"\"\n    for i in text:\n        if i.upper() in dict:\n            if i.isupper():\n                result += dict[i.upper()].lower()\n            else:\n                result += dict[i.upper()].lower()\n        else:\n            result += i\n\n    return result\n\nprint(gaderypoluki('Ala ma kota', 'GADERYPOLUKI') == 'gug mg iptg')\nprint(gaderypoluki('gug mg iptg', 'GADERYPOLUKI') == 'ala ma kota')\n",
      "metadata": {
        "trusted": true
      },
      "execution_count": 2,
      "outputs": [
        {
          "name": "stdout",
          "text": "True\nTrue\n",
          "output_type": "stream"
        }
      ]
    },
    {
      "cell_type": "code",
      "source": "def even_numbers_from_list(data):\n\n    return [point for point in data if point % 2 == 0]\n\nprint(even_numbers_from_list([1, 2, 3, 4]) == [2, 4])\nprint(even_numbers_from_list(range(10)) == list(range(0, 10, 2)))\nprint(even_numbers_from_list(range(1000)) == list(range(0, 1000, 2)))\nprint(even_numbers_from_list([10, 2, 3, 4, 6, -3, -4]) == [10, 2, 4, 6, -4])\n\ndef words_analyze(words):\n    return [(i, word, len(word)) for i, word in enumerate(words)]\n\nprint(words_analyze(['tomek', 'jadzia']) == [(0, 'tomek', 5), (1, 'jadzia', 6)])\nprint(words_analyze([]) == [])\n\ndef count_words_starting_with_given_letter(text, letter):\n       return {word: text.split().count(word) for word in text.split() if word.startswith(letter)}\n\nprint(count_words_starting_with_given_letter('ola ma kota o imieniu ola', 'o') == {'ola': 2, 'o': 1})\nprint(count_words_starting_with_given_letter('ola ma kota o imieniu ola', 'k') == {'kota': 1})\nprint(count_words_starting_with_given_letter('ola ma kota o imieniu ola', 'x') == {})\n",
      "metadata": {
        "trusted": true
      },
      "execution_count": 10,
      "outputs": [
        {
          "name": "stdout",
          "text": "True\nTrue\nTrue\nTrue\nTrue\nTrue\nTrue\nTrue\nTrue\n",
          "output_type": "stream"
        }
      ]
    },
    {
      "cell_type": "code",
      "source": "def merge_dicts(a, b, f):\n\n    result = {}\n\n    for key, value in a.items():\n        result[key] = value\n\n    for key, value in b.items():\n        if key in result:\n            result[key] = f(result[key], value)\n        else:\n            result[key] = value\n\n    return result\n\ndef add(a, b):\n    return a + b\n\nprint(merge_dicts({'a': 1}, {'b': 1}, add) == {'b': 1, 'a': 1})\nprint(merge_dicts({'a': 1, 'b': 2}, {'b': 1}, add) == {'b': 3, 'a': 1})\nprint(merge_dicts({'a': 1, 'b': 2}, {'b': 1, 'c': 3, 'a': 7}, add) == {'c': 3, 'b': 3, 'a': 8})\n",
      "metadata": {
        "trusted": true
      },
      "execution_count": 11,
      "outputs": [
        {
          "name": "stdout",
          "text": "True\nTrue\nTrue\n",
          "output_type": "stream"
        }
      ]
    },
    {
      "cell_type": "code",
      "source": "from math import sqrt\n\ndef primes(N):\n    return {2} | {i for i in range(3, N+1, 2) if all(i % p != 0 for p in range(3, int(sqrt(i)) + 1, 2))}\n\nprint(primes(5) == {2, 3, 5})\nprint(primes(10) == {2, 3, 5, 7})\nprint(primes(100) == {2, 3, 5, 7, 11, 13, 17, 19, 23, 29, 31, 37, 41, 43, 47, 53, 59, 61, 67, 71, 73, 79, 83, 89, 97})\n",
      "metadata": {
        "trusted": true
      },
      "execution_count": 5,
      "outputs": [
        {
          "name": "stdout",
          "text": "True\nTrue\nTrue\n",
          "output_type": "stream"
        }
      ]
    },
    {
      "cell_type": "code",
      "source": "def func1(n):\n    return [(x, y) for x in range(n) for y in range(n)]\n\nprint(func1(3) == [(0, 0), (0, 1), (0, 2), (1, 0), (1, 1), (1, 2), (2, 0), (2, 1), (2, 2)])\nprint(func1(0) == [])\n\ndef func2(n):\n    return [(x, y) for x in range(n) for y in range(n) if x < y]\n\nprint(func2(3) == [(0, 1), (0, 2), (1, 2)])\nprint(func2(4) == [(0, 1), (0, 2), (0, 3), (1, 2), (1, 3), (2, 3)])\n\ndef func3(n):\n    return [(x, y) for x in range(n) for y in range(n) if x > y]\n\nprint(func3(3) == [(1, 0), (2, 0), (2, 1)])\nprint(func3(4) == [(1, 0), (2, 0), (2, 1), (3, 0), (3, 1), (3, 2)])\n",
      "metadata": {
        "trusted": true
      },
      "execution_count": 6,
      "outputs": [
        {
          "name": "stdout",
          "text": "True\nTrue\nTrue\nTrue\nTrue\nTrue\n",
          "output_type": "stream"
        }
      ]
    },
    {
      "cell_type": "code",
      "source": "def powerset(x):\n    n = len(x)\n    subsets = []\n    for i in range(2 ** n):\n        subset = [x[j] for j in range(n) if (i & (1 << j)) != 0]\n        subsets.append(subset)\n    return subsets\n\nprint(powerset('abc') == [[], ['a'], ['b'], ['a', 'b'], ['c'], ['a', 'c'], ['b', 'c'], ['a', 'b', 'c']])\nprint(powerset([1, 2, 3]) == [[], [1], [2], [1, 2], [3], [1, 3], [2, 3], [1, 2, 3]])\nprint(powerset(['abc', 5, 6])==[[], ['abc'], [5], ['abc', 5], [6], ['abc', 6], [5, 6], ['abc', 5, 6]])\n",
      "metadata": {
        "trusted": true
      },
      "execution_count": 7,
      "outputs": [
        {
          "name": "stdout",
          "text": "True\nTrue\nTrue\n",
          "output_type": "stream"
        }
      ]
    },
    {
      "cell_type": "code",
      "source": "from math import sqrt\n\ndef is_prime(x):\n    if x < 2:\n        return False\n    if x == 2:\n        return True\n    if x % 2 == 0:\n        return False\n    return all(x % i != 0 for i in range(3, int(sqrt(x)) + 1, 2))\n\ndef primes_extra_b(N):\n    if N < 2:\n        return set()\n    smaller_primes = primes_extra_b(N - 1)\n    if is_prime(N):\n        smaller_primes.add(N)\n    return smaller_primes\n\nprint(primes_extra_b(5) == {2, 3, 5})\nprint(primes_extra_b(10) == {2, 3, 5, 7})\nprint(primes_extra_b(100) == {2, 3, 5, 7, 11, 13, 17, 19, 23, 29, 31, 37, 41, 43, 47, 53, 59, 61, 67, 71, 73, 79, 83, 89, 97})\n",
      "metadata": {
        "trusted": true
      },
      "execution_count": 8,
      "outputs": [
        {
          "name": "stdout",
          "text": "True\nTrue\nTrue\n",
          "output_type": "stream"
        }
      ]
    }
  ]
}
