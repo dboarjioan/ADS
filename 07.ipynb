{
  "metadata": {
    "language_info": {
      "codemirror_mode": {
        "name": "python",
        "version": 3
      },
      "file_extension": ".py",
      "mimetype": "text/x-python",
      "name": "python",
      "nbconvert_exporter": "python",
      "pygments_lexer": "ipython3",
      "version": "3.8"
    },
    "kernelspec": {
      "name": "python",
      "display_name": "Python (Pyodide)",
      "language": "python"
    }
  },
  "nbformat_minor": 4,
  "nbformat": 4,
  "cells": [
    {
      "cell_type": "code",
      "source": "import argparse\nimport sympy as sp\n\ndef newton_method(expression, initial_guess, max_steps, tolerance):\n    x=sp.symbols('x')\n    f=sp.sympify(expression)\n    f_prime=sp.diff(f, x)\n\n    x_k=initial_guess\n    for step in range(max_steps):\n        f_val=f.subs(x, x_k)\n        f_prime_val=f_prime.subs(x, x_k)\n\n        if abs(f_val)<tolerance:\n            print(f\"Znalezione miejsce zerowe: {x_k}\")\n            return\n\n        x_k=x_k-f_val/f_prime_val\n\n    print(\"Nie udało się znaleźć miejsca zerowego w danej liczbie kroków.\")\n\ndef main():\n    parser = argparse.ArgumentParser(description='Metoda Newtona do znajdowania miejsc zerowych funkcji.')\n    parser.add_argument('expression', type=str, help='Wyrażenie matematyczne funkcji (np. x**2+x+1)')\n    parser.add_argument('-g', '--initial_guess', type=float, default=0, help='Punkt startowy (domyślnie: 0)')\n    parser.add_argument('-s', '--max_steps', type=int, default=100, help='Maksymalna liczba kroków (domyślnie: 100)')\n    parser.add_argument('-t', '--tolerance', type=float, default=1e-6, help='Dokładność (domyślnie: 1e-6)')\n    args = parser.parse_args()\n\n    newton_method(args.expression, args.initial_guess, args.max_steps, args.tolerance)\n\nif __name__ == \"__main__\":\n    main()\n",
      "metadata": {
        "trusted": true
      },
      "execution_count": 2,
      "outputs": []
    },
    {
      "cell_type": "code",
      "source": "from collections import Counter\nimport string\n\n\nclass BagOfWords:\n    def __init__(self, document):\n        translator = str.maketrans(\"\", \"\", string.punctuation + string.digits)\n\n        if isinstance(document, str):\n            document = document.translate(translator).lower()\n            self.word_counts = Counter(document.split())\n        elif hasattr(document, 'read'):\n            document = document.read().translate(translator).lower()\n            self.word_counts = Counter(document.split())\n        else:\n            raise ValueError(\"Unsupported document type\")\n\n    def __repr__(self):\n        return ', '.join(f\"{word}:{count}\" for word, count in self.word_counts.items())\n\n    def __contains__(self, word):\n        return word in self.word_counts\n\n    def __iter__(self):\n        return iter(self.word_counts)\n\n    def __add__(self, other):\n        if not isinstance(other, BagOfWords):\n            raise TypeError(\"Unsupported operand type for +: BagOfWords and {}\".format(type(other)))\n        new_bow = BagOfWords(\"\")\n        new_bow.word_counts = self.word_counts + other.word_counts\n        return new_bow\n\n    def __getitem__(self, key):\n        return self.word_counts.get(key, 0)\n\n    def __setitem__(self, key, value):\n        self.word_counts[key] = value\n\n    def most_common(self, n):\n        return self.word_counts.most_common(n)\n\n# Przykład użycia\nwith open(\"hamlet.txt\", encoding=\"utf-8\") as file:\n    Hamlet = BagOfWords(file)\n\nprint(Hamlet)\nprint(Hamlet.__getitem__('hamlet'))\nprint(Hamlet.most_common(10))\n#hamlet wystepuje 115 razy\n#10 najczesciej wystepujacych slow to: ('the', 1348), ('and', 1101), ('of', 887), ('to', 863), ('you', 660), ('a', 633), ('i', 575), ('my', 520), ('in', 503), ('it', 445)",
      "metadata": {
        "trusted": true
      },
      "execution_count": 6,
      "outputs": []
    },
    {
      "cell_type": "code",
      "source": "import pickle\nfrom collections import Counter\nimport string\n\n\nclass BagOfWords:\n    def __init__(self, document):\n        translator = str.maketrans(\"\", \"\", string.punctuation + string.digits)\n\n        if isinstance(document, str):\n            document = document.translate(translator).lower()\n            self.word_counts = Counter(document.split())\n        elif hasattr(document, 'read'):\n            document = document.read().translate(translator).lower()\n            self.word_counts = Counter(document.split())\n        else:\n            raise ValueError(\"Unsupported document type\")\n\n    def __repr__(self):\n        return ', '.join(f\"{word}:{count}\" for word, count in self.word_counts.items())\n\n    def __contains__(self, word):\n        return word in self.word_counts\n\n    def __iter__(self):\n        return iter(self.word_counts)\n\n    def __add__(self, other):\n        if not isinstance(other, BagOfWords):\n            raise TypeError(\"Unsupported operand type for +: BagOfWords and {}\".format(type(other)))\n        new_bow = BagOfWords(\"\")\n        new_bow.word_counts = self.word_counts + other.word_counts\n        return new_bow\n\n    def __getitem__(self, key):\n        return self.word_counts.get(key, 0)\n\n    def __setitem__(self, key, value):\n        self.word_counts[key] = value\n\n    def most_common(self, n):\n        return self.word_counts.most_common(n)\n\n    def save(self, filename):\n        with open(filename, 'wb') as file:\n            pickle.dump(self, file)\n\n    def load(self, filename):\n        with open(filename, 'rb') as file:\n            loaded_object = pickle.load(file)\n            self.word_counts = loaded_object.word_counts\n\n# Przykład użycia\nbag_of_words = BagOfWords(\"This is a sample document.\")\nbag_of_words.save(\"bag_of_words.pkl\")\n\n# Później można odczytać dane\nloaded_bag_of_words = BagOfWords(\"\")\nloaded_bag_of_words.load(\"bag_of_words.pkl\")\nprint(loaded_bag_of_words)",
      "metadata": {},
      "execution_count": null,
      "outputs": []
    },
    {
      "cell_type": "code",
      "source": "import json\nfrom collections import Counter\nimport string\n\n\nclass BagOfWords:\n    def __init__(self, document):\n        translator = str.maketrans(\"\", \"\", string.punctuation + string.digits)\n\n        if isinstance(document, str):\n            document = document.translate(translator).lower()\n            self.word_counts = Counter(document.split())\n        elif hasattr(document, 'read'):\n            document = document.read().translate(translator).lower()\n            self.word_counts = Counter(document.split())\n        else:\n            raise ValueError(\"Unsupported document type\")\n\n    def __repr__(self):\n        return ', '.join(f\"{word}:{count}\" for word, count in self.word_counts.items())\n\n    def __contains__(self, word):\n        return word in self.word_counts\n\n    def __iter__(self):\n        return iter(self.word_counts)\n\n    def __add__(self, other):\n        if not isinstance(other, BagOfWords):\n            raise TypeError(\"Unsupported operand type for +: BagOfWords and {}\".format(type(other)))\n        new_bow = BagOfWords(\"\")\n        new_bow.word_counts = self.word_counts + other.word_counts\n        return new_bow\n\n    def __getitem__(self, key):\n        return self.word_counts.get(key, 0)\n\n    def __setitem__(self, key, value):\n        self.word_counts[key] = value\n\n    def most_common(self, n):\n        return self.word_counts.most_common(n)\n\n    def save(self, filename):\n        with open(filename, 'w') as file:\n            json.dump(self.word_counts, file)\n\n    def load(self, filename):\n        with open(filename, 'r') as file:\n            data = json.load(file)\n            self.word_counts = Counter(data)\n            \n# Przykład użycia\nbag_of_words = BagOfWords(\"This is a sample document.\")\nbag_of_words.save(\"bag_of_words.json\")\n\n# Później można odczytać dane\nloaded_bag_of_words = BagOfWords(\"\")\nloaded_bag_of_words.load(\"bag_of_words.json\")\nprint(loaded_bag_of_words)",
      "metadata": {},
      "execution_count": null,
      "outputs": []
    }
  ]
}