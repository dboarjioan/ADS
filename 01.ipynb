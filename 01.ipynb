{
  "metadata": {
    "language_info": {
      "codemirror_mode": {
        "name": "python",
        "version": 3
      },
      "file_extension": ".py",
      "mimetype": "text/x-python",
      "name": "python",
      "nbconvert_exporter": "python",
      "pygments_lexer": "ipython3",
      "version": "3.8"
    },
    "kernelspec": {
      "name": "python",
      "display_name": "Python (Pyodide)",
      "language": "python"
    }
  },
  "nbformat_minor": 4,
  "nbformat": 4,
  "cells": [
    {
      "cell_type": "code",
      "source": "def solve(d, m, tab):\n    count=0\n    window_sum=sum(tab[:m])\n\n    if window_sum==d:\n        count+=1\n\n    for i in range(1, len(tab)-m+1):\n        window_sum = window_sum-tab[i-1] + tab[i+m-1]\n\n        if window_sum==d:\n            count+=1\n\n    return count\ntab=[1, 2, 1, 3, 2]\nd=3 \nm=2\ntab1=[1, 1, 1, 1, 1, 1]\nd1=3 \nm1=2\ntab2=[4,1,3,4,1,1,1,1,1,1,1]\nd2=4 \nm2=4\nprint(solve(d, m, tab)==2)\nprint(solve(d1, m1, tab1)==0)\nprint(solve(d2, m2, tab2)==4)",
      "metadata": {
        "trusted": true
      },
      "execution_count": 5,
      "outputs": [
        {
          "name": "stdout",
          "text": "True\nTrue\nTrue\n",
          "output_type": "stream"
        }
      ]
    },
    {
      "cell_type": "code",
      "source": "import re\ndef HowManyIntegers(n):\n    return sum(1 for x in range(1, n) if all(q in '0279' for q in str(x)))\n\nprint(HowManyIntegers(1) == 0)\nprint(HowManyIntegers(10) == 3) # 2,7,9\nprint(HowManyIntegers(28) == 6) # 2,7,9,20,22,27",
      "metadata": {
        "trusted": true
      },
      "execution_count": 6,
      "outputs": [
        {
          "name": "stdout",
          "text": "True\nTrue\nTrue\n",
          "output_type": "stream"
        }
      ]
    }
  ]
}
