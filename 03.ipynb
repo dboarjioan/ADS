{
  "metadata": {
    "language_info": {
      "codemirror_mode": {
        "name": "python",
        "version": 3
      },
      "file_extension": ".py",
      "mimetype": "text/x-python",
      "name": "python",
      "nbconvert_exporter": "python",
      "pygments_lexer": "ipython3",
      "version": "3.8"
    },
    "kernelspec": {
      "name": "python",
      "display_name": "Python (Pyodide)",
      "language": "python"
    }
  },
  "nbformat_minor": 4,
  "nbformat": 4,
  "cells": [
    {
      "cell_type": "code",
      "source": "def log(*args):\n    \"Wypisuje wiadomość opcjonalnie wraz z podaną wartością\"\n    message = ' '.join(map(str, args))\n    print(message)\n\nlog(\"Hello World!\")  # Hello World!\nlog(\"The value is\", 42)  # The value is 42",
      "metadata": {
        "trusted": true
      },
      "execution_count": 1,
      "outputs": [
        {
          "name": "stdout",
          "text": "Hello World!\nThe value is 42\n",
          "output_type": "stream"
        }
      ]
    },
    {
      "cell_type": "code",
      "source": "def mean(*args):\n    \"\"\"Zwraca średnią liczb podanych jako argumenty pozycyjne\"\"\"\n    if len(args) == 0:\n        return 0\n    return sum(args) / len(args)\n\nprint(mean(1,2,3) == 2)\nprint(mean(2,2,4,4) == 3)\nprint(mean(1,2,3,4,5,61,2,12,123,123) == 33.6)",
      "metadata": {
        "trusted": true
      },
      "execution_count": 2,
      "outputs": [
        {
          "name": "stdout",
          "text": "True\nTrue\nTrue\n",
          "output_type": "stream"
        }
      ]
    },
    {
      "cell_type": "code",
      "source": "def check_dictionary_content(dictionary, **kwargs):\n    \"\"\"Sprawdza, czy w danym słowniku znajduje się co najmniej podana liczba elementów\"\"\"\n    for key, value in kwargs.items():\n        if key not in dictionary or dictionary[key] < value:\n            if value==0:\n                return True\n            else:\n                return False\n    return True\n\nd = {'orange': 3, 'apple': 1, 'dogs': 10}\nprint(check_dictionary_content(d, orange=2) == True)\nprint(check_dictionary_content(d, orange=2, apple=1) == True)\nprint(check_dictionary_content(d, dogs=11) == False)\nprint(check_dictionary_content(d, dogs=9, cats=0) == True)\nprint(check_dictionary_content(d, apple=0, cats=1) == False)\nprint(check_dictionary_content(d, **d) == True)",
      "metadata": {
        "trusted": true
      },
      "execution_count": 3,
      "outputs": [
        {
          "name": "stdout",
          "text": "True\nTrue\nTrue\nTrue\nTrue\nTrue\n",
          "output_type": "stream"
        }
      ]
    },
    {
      "cell_type": "code",
      "source": "def numbers_to_percents(values):\n    total = sum(values)\n    percents = [value / total for value in values]\n    return percents\n\nprint(numbers_to_percents([1,2,1]) == [0.25, 0.5, 0.25])\nprint(numbers_to_percents([1]) == [1])\nprint(numbers_to_percents([1,2,3,4]) == [0.1, 0.2, 0.3, 0.4])",
      "metadata": {
        "trusted": true
      },
      "execution_count": 4,
      "outputs": [
        {
          "name": "stdout",
          "text": "True\nTrue\nTrue\n",
          "output_type": "stream"
        }
      ]
    },
    {
      "cell_type": "code",
      "source": "def zwroc_rosnace(func, *args):\n    return [arg for arg in args if func(arg) > arg]\n\ndef f1(n):\n    return n**2 - 3*n\n\ndef f2(n):\n    return 100 - n\n\ndef f3(word):\n    return word[::-1]\n\nprint(zwroc_rosnace(f1, 4, 6, 2, -5) == [6, -5])\nprint(zwroc_rosnace(f2, *range(100)) == list(range(50)))\nprint(zwroc_rosnace(f3, \"python\", \"nie\", \"jest\", \"bardzo\", \"fajny\") == ['jest', 'bardzo', 'fajny'])\n",
      "metadata": {
        "trusted": true
      },
      "execution_count": 26,
      "outputs": [
        {
          "name": "stdout",
          "text": "True\nTrue\nTrue\n",
          "output_type": "stream"
        }
      ]
    },
    {
      "cell_type": "code",
      "source": "def zwroc_rosnace_od_poprzedniego(func, *args):\n    results = [func(args[0])] \n    result_args = [args[0]]\n    \n    for i in range(1, len(args)):\n        result = func(args[i])\n        if result > results[-1]:\n            results.append(result)\n            result_args.append(args[i])\n    \n    return result_args[1:]  \n\ndef f1(n):\n    return n**2 - 3*n\n\ndef f2(n):\n    return 100 - n\n\ndef f3(word):\n    return word[::-1]\n\nprint(zwroc_rosnace_od_poprzedniego(f1, 4, -5, 6, 2) == [-5])\nprint(zwroc_rosnace_od_poprzedniego(f2, *range(100)) == [])\nprint(zwroc_rosnace_od_poprzedniego(f3, \"python\", \"nie\", \"jest\", \"bardzo\", \"fajny\") == ['jest', 'fajny'])\n",
      "metadata": {
        "trusted": true
      },
      "execution_count": 27,
      "outputs": [
        {
          "name": "stdout",
          "text": "True\nTrue\nTrue\n",
          "output_type": "stream"
        }
      ]
    },
    {
      "cell_type": "code",
      "source": "def ile_wywolana():\n    ile_wywolana.counter = getattr(ile_wywolana, 'counter', 0) + 1\n    return ile_wywolana.counter\n\n# Testy\nprint(ile_wywolana() == 1)\nprint(ile_wywolana() == 2)\nprint(ile_wywolana() == 3)\n",
      "metadata": {
        "trusted": true
      },
      "execution_count": 8,
      "outputs": [
        {
          "name": "stdout",
          "text": "True\nTrue\nTrue\n",
          "output_type": "stream"
        }
      ]
    },
    {
      "cell_type": "code",
      "source": "def is_prime(n):\n    if n<2:\n        return False\n    for i in range(2, int(n**0.5)+1):\n        if n%i==0:\n            return False\n    return True\n\ndef get_primes(num):\n    while True:\n        if is_prime(num):\n            yield num\n        num += 1\n\n\nprimes=get_primes(7)\n\nfor i in range(100):\n    print(next(primes))\n",
      "metadata": {
        "trusted": true
      },
      "execution_count": 12,
      "outputs": [
        {
          "name": "stdout",
          "text": "7\n11\n13\n17\n19\n23\n29\n31\n37\n41\n43\n47\n53\n59\n61\n67\n71\n73\n79\n83\n89\n97\n101\n103\n107\n109\n113\n127\n131\n137\n139\n149\n151\n157\n163\n167\n173\n179\n181\n191\n193\n197\n199\n211\n223\n227\n229\n233\n239\n241\n251\n257\n263\n269\n271\n277\n281\n283\n293\n307\n311\n313\n317\n331\n337\n347\n349\n353\n359\n367\n373\n379\n383\n389\n397\n401\n409\n419\n421\n431\n433\n439\n443\n449\n457\n461\n463\n467\n479\n487\n491\n499\n503\n509\n521\n523\n541\n547\n557\n563\n",
          "output_type": "stream"
        }
      ]
    },
    {
      "cell_type": "code",
      "source": "def natural_numbers(k=0):\n    \"\"\"Tworzy generator liczb naturalnych od liczby k\"\"\"\n    while True:\n        yield k\n        k += 1\n        \nimport types\nprint(isinstance(natural_numbers(), types.GeneratorType))\n\nfor i, n in enumerate(natural_numbers()):\n    print(i, i == n)\n    if i > 20:\n        break\n        \nfor i, n in enumerate(natural_numbers(1)):\n    print(i, i+1 == n)\n    if i > 20:\n        break",
      "metadata": {
        "trusted": true
      },
      "execution_count": 21,
      "outputs": [
        {
          "name": "stdout",
          "text": "True\n0 True\n1 True\n2 True\n3 True\n4 True\n5 True\n6 True\n7 True\n8 True\n9 True\n10 True\n11 True\n12 True\n13 True\n14 True\n15 True\n16 True\n17 True\n18 True\n19 True\n20 True\n21 True\n0 True\n1 True\n2 True\n3 True\n4 True\n5 True\n6 True\n7 True\n8 True\n9 True\n10 True\n11 True\n12 True\n13 True\n14 True\n15 True\n16 True\n17 True\n18 True\n19 True\n20 True\n21 True\n",
          "output_type": "stream"
        }
      ]
    },
    {
      "cell_type": "code",
      "source": "def factorials():\n    \"\"\"Tworzy generator kolejnych silnii\"\"\"\n    i=1\n    j=1\n    while True:\n        yield j\n        j*=i\n        i+=1\n    pass\n\nimport types\nprint(isinstance(factorials(), types.GeneratorType))\n\nresults = [1, 1, 2, 6, 24, 120, 720, 5040]\nfor truth, answer in zip(results, factorials()):\n    print(truth, truth == answer)",
      "metadata": {
        "trusted": true
      },
      "execution_count": 29,
      "outputs": [
        {
          "name": "stdout",
          "text": "True\n1 True\n1 True\n2 True\n6 True\n24 True\n120 True\n720 True\n5040 True\n",
          "output_type": "stream"
        }
      ]
    },
    {
      "cell_type": "code",
      "source": "def fibb():\n    a=1\n    b=1\n    while True:\n        yield a\n        a=b\n        b=a+b\n\n\nfib=fibb()\n\nfor i in range(10):\n      print(next(fib))\n     ",
      "metadata": {
        "trusted": true
      },
      "execution_count": 28,
      "outputs": [
        {
          "name": "stdout",
          "text": "1\n1\n2\n4\n8\n16\n32\n64\n128\n256\n",
          "output_type": "stream"
        }
      ]
    }
  ]
}
