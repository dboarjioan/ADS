{
  "metadata": {
    "kernelspec": {
      "name": "python",
      "display_name": "Python (Pyodide)",
      "language": "python"
    },
    "language_info": {
      "codemirror_mode": {
        "name": "python",
        "version": 3
      },
      "file_extension": ".py",
      "mimetype": "text/x-python",
      "name": "python",
      "nbconvert_exporter": "python",
      "pygments_lexer": "ipython3",
      "version": "3.8"
    }
  },
  "nbformat_minor": 5,
  "nbformat": 4,
  "cells": [
    {
      "cell_type": "code",
      "source": "def _filter(func=None, iterable=()):\n\n    def generator():\n        for i in iterable:\n            if func is None:\n                if i:\n                    yield i\n            elif func(i):\n                yield i\n\n    return generator()\n\nfrom types import GeneratorType\nprint(isinstance(_filter(), GeneratorType))\nprint(list(filter(lambda x: x > 0, [0, -3, 1, 6])) == list(_filter(lambda x: x > 0, [0, -3, 1, 6])))\nprint(list(filter(None, [2, -3, 1, 6])) == list(_filter(None, [2, -3, 1, 6])))\nprint(list(filter(None, [True, False, False])) == list(_filter(None, [True, False, False])))\nprint(list(filter(None, [0, -3, 1, 6])) == list(_filter(None, [0, -3, 1, 6])))\n",
      "metadata": {
        "trusted": true
      },
      "execution_count": 66,
      "outputs": [
        {
          "name": "stdout",
          "text": "True\nTrue\nTrue\nTrue\nTrue\n",
          "output_type": "stream"
        }
      ],
      "id": "83a72505-8bfa-43cf-93eb-29806feafdbd"
    },
    {
      "cell_type": "code",
      "source": "def _map(func, *iterables):\n\n    def generator():\n        for i in zip(*iterables):\n            yield func(*i)\n\n    return generator()\n\n\nfrom types import GeneratorType\n\nprint(isinstance(_map(None, None), GeneratorType))\nprint(list(map(lambda x: x.upper(), 'ala ma kota')) == list(_map(lambda x: x.upper(), 'ala ma kota')))\nprint(list(map(lambda x, y: x + y, [1, 2, 3, 4], [5, 6, 7, 8])) == list(\n    _map(lambda x, y: x + y, [1, 2, 3, 4], [5, 6, 7, 8])))",
      "metadata": {
        "trusted": true
      },
      "execution_count": 67,
      "outputs": [
        {
          "name": "stdout",
          "text": "True\nTrue\nTrue\n",
          "output_type": "stream"
        }
      ],
      "id": "1ae72577-560f-4d6a-b263-72552b42febc"
    },
    {
      "cell_type": "code",
      "source": "from functools import reduce\n\ndef reverse_nonpalindromes(words):\n    reverse_word = lambda word: reduce(lambda acc, char: char + acc, word, \"\")\n    is_palindrome = lambda word: word == reverse_word(word)\n    filtered_words = filter(lambda word: not is_palindrome(word), words)\n    reversed_words = map(reverse_word, filtered_words)\n    return reduce(lambda acc, word: acc + [word,], reversed_words, [])\n\nprint(reverse_nonpalindromes([\"aa\", \"ab\"])==[\"ba\"])\nprint(reverse_nonpalindromes([\"eht\", \"dog\", \"ala\"])==[\"the\", \"god\"])",
      "metadata": {
        "trusted": true
      },
      "execution_count": 68,
      "outputs": [
        {
          "name": "stdout",
          "text": "True\nTrue\n",
          "output_type": "stream"
        }
      ],
      "id": "eee2dddd-cf74-4f75-a383-0ea9ef1b5a0a"
    },
    {
      "cell_type": "code",
      "source": "from functools import reduce\n\ndef squares_of_odds(values):\n    suma = reduce(lambda acc, i: acc + i**2, filter(lambda i: i % 2 != 0, values), 0)\n    return suma\n\n\nprint(squares_of_odds([1,2,3,4,5,6]) == 35)\nprint(squares_of_odds([10, 13, 5, 6]) == 194)",
      "metadata": {
        "trusted": true
      },
      "execution_count": 69,
      "outputs": [
        {
          "name": "stdout",
          "text": "True\nTrue\n",
          "output_type": "stream"
        }
      ],
      "id": "09f3b0ea-55cd-4038-99e1-804f3ead55cb"
    },
    {
      "cell_type": "code",
      "source": "def all_are_positive(numbers):\n    positive = lambda i: i>0\n    return reduce(lambda acc, i: acc and positive(i), numbers,True)\n\nprint(all_are_positive([]))\nprint(all_are_positive([1,2,3]))\nprint(not all_are_positive([-1,2,3]))\nprint(not all_are_positive([5,6,-2,1]))",
      "metadata": {
        "trusted": true
      },
      "execution_count": 70,
      "outputs": [
        {
          "name": "stdout",
          "text": "True\nTrue\nTrue\nTrue\n",
          "output_type": "stream"
        }
      ],
      "id": "8776911e-cf7a-40ac-810e-7c2fa9b083a8"
    },
    {
      "cell_type": "code",
      "source": "from functools import reduce\n\ndef flatten(lists):\n    return reduce(lambda acc,l: acc+l,lists,[])\n\n\nprint(flatten([[]])==[])\nprint(flatten([[1,2],[3,4]])==[1,2,3,4])\nprint(flatten([[\"1\", 1.1],[]])==[\"1\", 1.1])",
      "metadata": {
        "trusted": true
      },
      "execution_count": 71,
      "outputs": [
        {
          "name": "stdout",
          "text": "True\nTrue\nTrue\n",
          "output_type": "stream"
        }
      ],
      "id": "9186dbbc-d5f9-449d-bc48-ffd41bb91aeb"
    },
    {
      "cell_type": "code",
      "source": "from functools import reduce\n\ndef celsius_to_fahrenheit(x):\n    return reduce(lambda acc,i: acc+[i],map(lambda a: a * 9/5 + 32, x),[])\n\n\nprint(list(celsius_to_fahrenheit([0, 10, 100])) == [32.0, 50.0, 212.0])\nprint(list(celsius_to_fahrenheit([-123, 0])) == [-189.4, 32.0])",
      "metadata": {
        "trusted": true
      },
      "execution_count": 72,
      "outputs": [
        {
          "name": "stdout",
          "text": "True\nTrue\n",
          "output_type": "stream"
        }
      ],
      "id": "e687bf71-9869-4bb1-9b9b-60e3f171df6a"
    },
    {
      "cell_type": "code",
      "source": "from functools import reduce\n\ndef product_greater_than(x, k=0):\n    return reduce(lambda acc, i: acc*i,filter(lambda xx: xx>k ,x),1)\n\n\nprint(product_greater_than([1, 2, 3]) == 6)\nprint(product_greater_than([1, 2, 3], 2) == 3)\nprint(product_greater_than([-4, 5, 10, 23, 123], -5) == -565800)\n",
      "metadata": {
        "trusted": true
      },
      "execution_count": 74,
      "outputs": [
        {
          "name": "stdout",
          "text": "True\nTrue\nTrue\n",
          "output_type": "stream"
        }
      ],
      "id": "b552254b-7faa-4522-9fc5-ef3a6880e013"
    },
    {
      "cell_type": "code",
      "source": "from functools import reduce\n\ndef create_sentence(x, k=0):\n    fwords = filter(lambda word: len(word) >= k, x)\n    return ' '.join(list(fwords))\n\nprint(create_sentence(['ala', 'ma', 'kota']) == 'ala ma kota')\nprint(create_sentence(['ala']) == 'ala')\nprint(create_sentence(['ala', 'ma', 'pieknego', 'kota'], k=3) == 'ala pieknego kota')\n",
      "metadata": {
        "trusted": true
      },
      "execution_count": 75,
      "outputs": [
        {
          "name": "stdout",
          "text": "True\nTrue\nTrue\n",
          "output_type": "stream"
        }
      ],
      "id": "44fb4aa0-22ee-4a6f-b610-e9e3a961303f"
    },
    {
      "cell_type": "code",
      "source": "from functools import reduce\n\ndef tuple_if_sum_greater(k, *lists):\n\n    colist = list(zip(*lists))\n    filtered_colist = list(filter(lambda i: sum(i)>k, colist))\n\n    return list(map(tuple, filtered_colist))\n\n\nprint(list(tuple_if_sum_greater(0, [1, 2, 3])) == [(1,), (2,), (3,)])\nprint(list(tuple_if_sum_greater(4, [1, 2, 3], [2, 3, 4])) == [(2, 3), (3, 4)])\nprint(list(tuple_if_sum_greater(10, [1, 2, 3], [2, 3, 4])) == [])\nprint(list(tuple_if_sum_greater(0, [1, 2], [3, 4], [5, 6])) == [(1, 3, 5), (2, 4, 6)])\n",
      "metadata": {
        "trusted": true
      },
      "execution_count": 76,
      "outputs": [
        {
          "name": "stdout",
          "text": "True\nTrue\nTrue\nTrue\n",
          "output_type": "stream"
        }
      ],
      "id": "4797f324-a0ef-454b-8ecc-617657823ed0"
    },
    {
      "cell_type": "code",
      "source": "from math import sqrt\nfrom functools import reduce\n\ndef is_prime(n):\n    if n<2:\n        return False\n    return all(map(lambda i: n%i != 0, range(2, int(sqrt(n))+1)))\n\n\nprimes = lambda N: set(filter(is_prime, reduce(lambda x, _: x + [x[-1] + 1], range(N-2), [2])))\n\nprint(primes(5) == {2, 3, 5})\nprint(primes(10) == {2, 3, 5, 7})\nprint(primes(100) == {2, 3, 5, 7, 11, 13, 17, 19, 23, 29, 31, 37, 41, 43, 47, 53, 59, 61, 67, 71, 73, 79, 83, 89, 97})",
      "metadata": {
        "trusted": true
      },
      "execution_count": 77,
      "outputs": [
        {
          "name": "stdout",
          "text": "True\nTrue\nTrue\n",
          "output_type": "stream"
        }
      ],
      "id": "cb9a42e0-e3a6-4411-97ca-77d8a252eae1"
    }
  ]
}
