{
  "metadata": {
    "language_info": {
      "codemirror_mode": {
        "name": "python",
        "version": 3
      },
      "file_extension": ".py",
      "mimetype": "text/x-python",
      "name": "python",
      "nbconvert_exporter": "python",
      "pygments_lexer": "ipython3",
      "version": "3.8"
    },
    "kernelspec": {
      "name": "python",
      "display_name": "Python (Pyodide)",
      "language": "python"
    }
  },
  "nbformat_minor": 4,
  "nbformat": 4,
  "cells": [
    {
      "cell_type": "code",
      "source": "import numpy as np\nimport random\nfrom time import time\nfrom math import sin, cos\nfrom PIL import Image\nimport matplotlib.pyplot as plt",
      "metadata": {
        "trusted": true
      },
      "execution_count": 29,
      "outputs": []
    },
    {
      "cell_type": "code",
      "source": "# Zadanie 1\n\n@timeit\ndef random_tab():\n    tab=[]\n    for i in range(10000):\n        tab.append(random.randint(0, 10000))\n\n    for i in range(len(tab)):\n        tab[i] += 1\n\n    return tab\n\n@timeit\ndef random_tab_numpy():\n    tab = np.random.randint(0, 10000, size=(10000, 1))\n    tab += 1\n    return tab.flatten()\n\ntab1=random_tab()\ntab2=random_tab_numpy()",
      "metadata": {
        "trusted": true
      },
      "execution_count": 30,
      "outputs": [
        {
          "name": "stdout",
          "text": "0.031000137329101562\n0.0009999275207519531\n",
          "output_type": "stream"
        }
      ]
    },
    {
      "cell_type": "code",
      "source": "#zadanie 2\n\n@timeit\ndef sin_cos():\n    tab = random_tab()\n    result_tab = np.zeros_like(tab)\n\n    for i in range(len(tab)):\n        result_tab[i] = sin(tab[i]) + cos(tab[i])\n\n    return result_tab\n\n\n@timeit\ndef sin_cos_numpy():\n    tab=random_tab_numpy()\n\n    def sin_cos_function(x):\n        return sin(x)+cos(x)\n\n    vectorized_function=np.vectorize(sin_cos_function)\n\n    result_tab=vectorized_function(tab)\n\n    return result_tab\n\n\ntab_sin_cos = sin_cos()\ntab_sin_cos_numpy = sin_cos_numpy()",
      "metadata": {
        "trusted": true
      },
      "execution_count": 19,
      "outputs": [
        {
          "name": "stdout",
          "text": "0.03300023078918457\n0.05000019073486328\n0.0009999275207519531\n0.015000104904174805\n",
          "output_type": "stream"
        }
      ]
    },
    {
      "cell_type": "code",
      "source": "#zadanie 3\n\n@timeit\ndef cube_sum(x):\n    \"\"\"Zwraca sumę sześcianów elementów\"\"\"\n    result = 0\n    for i in range(len(x)):\n        result += x[i] ** 3\n    return result\n\n@timeit\ndef almost_variance(x):\n    \"\"\"Oblicza 1/n * SUM (x_i - mean(x))^4\"\"\"\n    m = sum(x) / len(x)\n    result = 0\n    for i in range(len(x)):\n        result += (x[i] - m) ** 4\n    result /= len(x)\n    return result\n\n@timeit\ndef cube_sum_numpy(x):\n    \"\"\"Zwraca sumę sześcianów elementów\"\"\"\n    return np.sum(x**3)\n\n@timeit\ndef almost_variance_numpy(x):\n    \"\"\"Oblicza 1/n * SUM (x_i - mean(x))^4\"\"\"\n    m = np.mean(x)\n    return np.mean((x - m)**4)\n\narr1 = np.random.rand(10000)\n\nresult_cube_sum = cube_sum(arr1)\nresult_almost_variance = almost_variance(arr1)\n\nresult_cube_sum_numpy = cube_sum_numpy(arr1)\nresult_almost_variance_numpy = almost_variance_numpy(arr1)",
      "metadata": {
        "trusted": true
      },
      "execution_count": 31,
      "outputs": [
        {
          "name": "stdout",
          "text": "0.009000062942504883\n0.013000011444091797\n0.0009999275207519531\n0.0010001659393310547\n",
          "output_type": "stream"
        }
      ]
    },
    {
      "cell_type": "code",
      "source": "#zadanie 4\n\nmultiplication_table = np.arange(1, 11)[:, None] * np.arange(1, 11)\nprint(multiplication_table)",
      "metadata": {
        "trusted": true
      },
      "execution_count": 32,
      "outputs": [
        {
          "name": "stdout",
          "text": "[[  1   2   3   4   5   6   7   8   9  10]\n [  2   4   6   8  10  12  14  16  18  20]\n [  3   6   9  12  15  18  21  24  27  30]\n [  4   8  12  16  20  24  28  32  36  40]\n [  5  10  15  20  25  30  35  40  45  50]\n [  6  12  18  24  30  36  42  48  54  60]\n [  7  14  21  28  35  42  49  56  63  70]\n [  8  16  24  32  40  48  56  64  72  80]\n [  9  18  27  36  45  54  63  72  81  90]\n [ 10  20  30  40  50  60  70  80  90 100]]\n",
          "output_type": "stream"
        }
      ]
    },
    {
      "cell_type": "code",
      "source": "#zadanie 5\n\npoints = np.random.rand(10, 5)\n\ndistances = np.linalg.norm(points[:, np.newaxis, :] - points[np.newaxis, :, :], axis=2)\n\nprint(distances)",
      "metadata": {
        "trusted": true
      },
      "execution_count": 22,
      "outputs": [
        {
          "name": "stdout",
          "text": "[[0.         0.6479069  0.61791849 1.17729121 0.68171569 0.43944365\n  0.63757794 0.72343737 0.92006602 0.65249451]\n [0.6479069  0.         0.47823803 1.19525643 0.49160048 0.55498224\n  0.43254579 0.68243151 0.60408623 0.62752978]\n [0.61791849 0.47823803 0.         1.2326722  0.75310522 0.78445138\n  0.54406787 0.89802358 0.78159455 0.81264412]\n [1.17729121 1.19525643 1.2326722  0.         0.86478183 1.01571792\n  0.89574838 1.0295439  1.09349034 0.99799256]\n [0.68171569 0.49160048 0.75310522 0.86478183 0.         0.44607565\n  0.26471868 0.40140731 0.42531665 0.70333231]\n [0.43944365 0.55498224 0.78445138 1.01571792 0.44607565 0.\n  0.52835501 0.64013105 0.82636075 0.52401867]\n [0.63757794 0.43254579 0.54406787 0.89574838 0.26471868 0.52835501\n  0.         0.56112012 0.42208706 0.75634869]\n [0.72343737 0.68243151 0.89802358 1.0295439  0.40140731 0.64013105\n  0.56112012 0.         0.48221702 0.81866735]\n [0.92006602 0.60408623 0.78159455 1.09349034 0.42531665 0.82636075\n  0.42208706 0.48221702 0.         1.01874623]\n [0.65249451 0.62752978 0.81264412 0.99799256 0.70333231 0.52401867\n  0.75634869 0.81866735 1.01874623 0.        ]]\n",
          "output_type": "stream"
        }
      ]
    },
    {
      "cell_type": "code",
      "source": "#zadanie 6\n\ndef whiten_data(points):\n    mean_values = np.mean(points, axis=0)\n    std_deviation = np.std(points, axis=0)\n    whitened_points = (points - mean_values) / std_deviation\n\n    return whitened_points\n\n\nsample_data = np.array([[0, 1],\n                        [2, 3],\n                        [4, 5],\n                        [6, 7],\n                        [8, 9],\n                        ])\n\nwhitened_data = whiten_data(sample_data)\nprint(whitened_data)",
      "metadata": {
        "trusted": true
      },
      "execution_count": 23,
      "outputs": [
        {
          "name": "stdout",
          "text": "[[-1.41421356 -1.41421356]\n [-0.70710678 -0.70710678]\n [ 0.          0.        ]\n [ 0.70710678  0.70710678]\n [ 1.41421356  1.41421356]]\n",
          "output_type": "stream"
        }
      ]
    },
    {
      "cell_type": "code",
      "source": "#zadanie 7\n\nA = [1, -4, 3]\nx = 1.5\nresult = min(A, key=lambda a: abs(x - a))\nprint(result)",
      "metadata": {
        "trusted": true
      },
      "execution_count": 24,
      "outputs": [
        {
          "name": "stdout",
          "text": "1\n",
          "output_type": "stream"
        }
      ]
    },
    {
      "cell_type": "code",
      "source": "#zadanie 8\n\ndef evaluate_polynomial(x, coefficients):\n    return np.sum(np.cumprod([1] + [x] * (len(coefficients) - 1)) * coefficients)\n\ncoefficients = [2, 3, 1]\nx_value = 1\nresult = evaluate_polynomial(x_value, coefficients)\nprint(result)",
      "metadata": {
        "trusted": true
      },
      "execution_count": 25,
      "outputs": [
        {
          "name": "stdout",
          "text": "6\n",
          "output_type": "stream"
        }
      ]
    },
    {
      "cell_type": "code",
      "source": "#zadanie 9\n\ndef rgb_to_grayscale(img_path):\n    img = Image.open(img_path)\n\n    img_array = np.array(img)\n\n    grayscale_img_array = 0.2126 * img_array[:, :, 0] + 0.7152 * img_array[:, :, 1] + 0.0722 * img_array[:, :, 2]\n\n    grayscale_img = Image.fromarray(grayscale_img_array.astype('uint8'))\n\n    return grayscale_img\n\nimg_path = r'C:\\Users\\doria\\Downloads\\doggo.png'\ngrayscale_img = rgb_to_grayscale(img_path)\n\nplt.imshow(grayscale_img, cmap='gray')\nplt.axis('off')\nplt.show()",
      "metadata": {
        "trusted": true
      },
      "execution_count": null,
      "outputs": []
    },
    {
      "cell_type": "code",
      "source": "#zadanie 10\n\ndef linear_interpolation(point1, point2, values):\n    values = np.asarray(values)\n    t = (values - point1[0]) / (point2[0] - point1[0])\n    result = point1[1] + t * (point2[1] - point1[1])\n    return result\n\npoint1 = np.array([1, 2])\npoint2 = np.array([4, 6])\nvalues = np.linspace(0, 1, 10)\n\ninterpolated_values = linear_interpolation(point1, point2, values)\nprint(interpolated_values)\n",
      "metadata": {
        "trusted": true
      },
      "execution_count": 33,
      "outputs": [
        {
          "name": "stdout",
          "text": "[0.66666667 0.81481481 0.96296296 1.11111111 1.25925926 1.40740741\n 1.55555556 1.7037037  1.85185185 2.        ]\n",
          "output_type": "stream"
        }
      ]
    },
    {
      "cell_type": "code",
      "source": "",
      "metadata": {},
      "execution_count": null,
      "outputs": []
    }
  ]
}
